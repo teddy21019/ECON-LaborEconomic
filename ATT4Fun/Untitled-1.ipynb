{
 "cells": [
  {
   "cell_type": "code",
   "execution_count": 43,
   "metadata": {},
   "outputs": [
    {
     "data": {
      "text/plain": [
       "[<matplotlib.lines.Line2D at 0x20589043910>]"
      ]
     },
     "execution_count": 43,
     "metadata": {},
     "output_type": "execute_result"
    },
    {
     "data": {
      "image/png": "[encoded data removed]",
      "text/plain": [
       "<Figure size 432x288 with 1 Axes>"
      ]
     },
     "metadata": {
      "needs_background": "light"
     },
     "output_type": "display_data"
    }
   ],
   "source": [
    "import numpy as np\n",
    "import matplotlib.pyplot as plt\n",
    "\n",
    "ss = np.array([1, 2, 5, 10, 20, 40])\n",
    "ss = np.array([1, 2, 15, 30, 50, 97, 100])\n",
    "\n",
    "alphas = [0.0001 * alpha for  alpha in range(10000)]\n",
    "ratios = []\n",
    "for alpha in alphas:\n",
    "    ratios.append(np.sum(ss**(1-alpha) ) / np.sum(ss**(-alpha) ))\n",
    "\n",
    "plt.plot(alphas, ratios)"
   ]
  },
  {
   "cell_type": "code",
   "execution_count": 44,
   "metadata": {},
   "outputs": [],
   "source": [
    "def find_nearest(array, value):\n",
    "    array = np.asarray(array)\n",
    "    idx = (np.abs(array - value)).argmin()\n",
    "    return idx, array[idx]\n",
    "\n",
    "idx, v = find_nearest(ratios, 10)"
   ]
  },
  {
   "cell_type": "code",
   "execution_count": 46,
   "metadata": {},
   "outputs": [
    {
     "name": "stdout",
     "output_type": "stream",
     "text": [
      "9.999224742302946\n",
      "0.6685\n"
     ]
    }
   ],
   "source": [
    "print(ratios[idx])\n",
    "print(alphas[idx])"
   ]
  },
  {
   "cell_type": "code",
   "execution_count": 47,
   "metadata": {},
   "outputs": [
    {
     "name": "stdout",
     "output_type": "stream",
     "text": [
      "[  1   2  15  30  50  97 100]\n",
      "[48. 30.  7.  4.  3.  2.  2.]\n"
     ]
    }
   ],
   "source": [
    "from sklearn.preprocessing import normalize\n",
    "print(ss)\n",
    "n_of_ss = ss**(-alphas[idx])\n",
    "n_of_ss = np.floor( n_of_ss / np.sum(n_of_ss) * 100 )\n",
    "print(n_of_ss)"
   ]
  },
  {
   "cell_type": "code",
   "execution_count": 36,
   "metadata": {},
   "outputs": [
    {
     "data": {
      "text/plain": [
       "96.0"
      ]
     },
     "execution_count": 36,
     "metadata": {},
     "output_type": "execute_result"
    }
   ],
   "source": [
    "sum(n_of_ss)\n"
   ]
  },
  {
   "cell_type": "code",
   "execution_count": 63,
   "metadata": {},
   "outputs": [
    {
     "data": {
      "text/plain": [
       "(array([6.52895909e-07, 1.33090320e-06, 1.16322398e-06, 8.79708384e-07,\n",
       "        7.36330498e-07, 5.73511543e-07, 4.20413123e-07, 3.36168489e-07,\n",
       "        2.85945727e-07, 2.25192386e-07, 1.97650871e-07, 1.69299311e-07,\n",
       "        1.19076549e-07, 1.07735925e-07, 1.04495747e-07, 8.42446335e-08,\n",
       "        7.20939652e-08, 5.67031187e-08, 4.37424058e-08, 4.13122722e-08,\n",
       "        4.77926286e-08, 4.45524504e-08, 4.13122722e-08, 3.40218712e-08,\n",
       "        2.51113811e-08, 2.43013366e-08, 1.45808019e-08, 1.62008910e-08,\n",
       "        1.53908465e-08, 1.94410693e-08, 2.91616039e-08, 8.91049008e-09,\n",
       "        1.86310247e-08, 1.05305792e-08, 8.91049008e-09, 8.10044552e-09,\n",
       "        1.13406237e-08, 6.48035642e-09, 9.72053463e-09, 4.86026731e-09]),\n",
       " array([      0.,  125000.,  250000.,  375000.,  500000.,  625000.,\n",
       "         750000.,  875000., 1000000., 1125000., 1250000., 1375000.,\n",
       "        1500000., 1625000., 1750000., 1875000., 2000000., 2125000.,\n",
       "        2250000., 2375000., 2500000., 2625000., 2750000., 2875000.,\n",
       "        3000000., 3125000., 3250000., 3375000., 3500000., 3625000.,\n",
       "        3750000., 3875000., 4000000., 4125000., 4250000., 4375000.,\n",
       "        4500000., 4625000., 4750000., 4875000., 5000000.]),\n",
       " <BarContainer object of 40 artists>)"
      ]
     },
     "execution_count": 63,
     "metadata": {},
     "output_type": "execute_result"
    },
    {
     "data": {
      "image/png": "[encoded data removed]",
      "text/plain": [
       "<Figure size 432x288 with 1 Axes>"
      ]
     },
     "metadata": {
      "needs_background": "light"
     },
     "output_type": "display_data"
    }
   ],
   "source": [
    "mean = np.log(5e5)\n",
    "\n",
    "plt.hist(np.exp(np.random.normal(mean,1,10000)), bins=40, range=(0,5e6), density=True)\n"
   ]
  },
  {
   "cell_type": "code",
   "execution_count": null,
   "metadata": {},
   "outputs": [],
   "source": []
  }
 ],
 "metadata": {
  "kernelspec": {
   "display_name": "Python 3.9.7 ('base')",
   "language": "python",
   "name": "python3"
  },
  "language_info": {
   "codemirror_mode": {
    "name": "ipython",
    "version": 3
   },
   "file_extension": ".py",
   "mimetype": "text/x-python",
   "name": "python",
   "nbconvert_exporter": "python",
   "pygments_lexer": "ipython3",
   "version": "3.9.7"
  },
  "orig_nbformat": 4,
  "vscode": {
   "interpreter": {
    "hash": "ad2bdc8ecc057115af97d19610ffacc2b4e99fae6737bb82f5d7fb13d2f2c186"
   }
  }
 },
 "nbformat": 4,
 "nbformat_minor": 2
}
